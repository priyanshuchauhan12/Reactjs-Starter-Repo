{
  "nbformat": 4,
  "nbformat_minor": 0,
  "metadata": {
    "colab": {
      "provenance": [],
      "authorship_tag": "ABX9TyMu5VJJyxaQTXlS0+TU4dP5",
      "include_colab_link": true
    },
    "kernelspec": {
      "name": "python3",
      "display_name": "Python 3"
    },
    "language_info": {
      "name": "python"
    }
  },
  "cells": [
    {
      "cell_type": "markdown",
      "metadata": {
        "id": "view-in-github",
        "colab_type": "text"
      },
      "source": [
        "<a href=\"https://colab.research.google.com/github/priyanshuchauhan12/Reactjs-Starter-Repo/blob/main/Untitled4.ipynb\" target=\"_parent\"><img src=\"https://colab.research.google.com/assets/colab-badge.svg\" alt=\"Open In Colab\"/></a>"
      ]
    },
    {
      "cell_type": "code",
      "source": [],
      "metadata": {
        "id": "TeQ3K2EQvI3d"
      },
      "execution_count": null,
      "outputs": []
    },
    {
      "cell_type": "code",
      "execution_count": 34,
      "metadata": {
        "colab": {
          "base_uri": "https://localhost:8080/"
        },
        "id": "tFvaYZnLumi-",
        "outputId": "ca008852-eca5-4a5a-a25a-6731cff1ee9a"
      },
      "outputs": [
        {
          "output_type": "stream",
          "name": "stdout",
          "text": [
            "Enter first number : 2\n",
            "Enter operator : 1\n",
            "Enter second number : 2\n",
            "invalid operator\n"
          ]
        }
      ],
      "source": [
        "a = int(input(\"Enter first number : \"))\n",
        "c = input(\"Enter operator : \")\n",
        "b = int(input(\"Enter second number : \"))\n",
        "if c == '+':\n",
        "  print(a+b)\n",
        "elif c == '-' :\n",
        "  print(a - b)\n",
        "elif c == '*':\n",
        "  print(a * b)\n",
        "elif c == '/':\n",
        "  print(a / b)\n",
        "else:\n",
        "    print(\"invalid operator\")"
      ]
    },
    {
      "cell_type": "code",
      "source": [
        "\n"
      ],
      "metadata": {
        "id": "6fbRFucf1yqJ"
      },
      "execution_count": null,
      "outputs": []
    }
  ]
}